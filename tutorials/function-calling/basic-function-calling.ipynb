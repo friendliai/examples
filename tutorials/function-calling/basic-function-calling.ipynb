{
    "cells": [
        {
            "cell_type": "code",
            "execution_count": null,
            "metadata": {
                "vscode": {
                    "languageId": "shellscript"
                }
            },
            "outputs": [],
            "source": [
                "%pip install -U openai --quiet"
            ]
        },
        {
            "cell_type": "markdown",
            "metadata": {},
            "source": [
                "### Setup environment\n",
                "\n",
                "Preparing Friendli Personal Access Token:  \n",
                "\n",
                "a. Sign up at [Friendli Suite](https://friendli.ai/suite).  \n",
                "b. Get a [Personal Access Token (PAT)](https://friendli.ai/suite/setting/tokens)  \n",
                "c. Copy the token, it will be used in the following steps.  "
            ]
        },
        {
            "cell_type": "code",
            "execution_count": 1,
            "metadata": {},
            "outputs": [],
            "source": [
                "tools = [\n",
                "  {\n",
                "      \"type\": \"function\",\n",
                "      \"function\": {\n",
                "          \"name\": \"get_weather\",\n",
                "          \"parameters\": {\n",
                "              \"type\": \"object\",\n",
                "              \"properties\": {\n",
                "                  \"location\": {\"type\": \"string\"},\n",
                "                  \"date\": {\"type\": \"string\", \"format\": \"date\"}\n",
                "              },\n",
                "          },\n",
                "      },\n",
                "  }\n",
                "]"
            ]
        },
        {
            "cell_type": "code",
            "execution_count": 2,
            "metadata": {},
            "outputs": [],
            "source": [
                "from datetime import datetime\n",
                "\n",
                "today = datetime.now()\n",
                "messages = [\n",
                "    {\"role\": \"system\", \"content\": f\"You are a helpful assistant. today is {today}.\"},\n",
                "    {\"role\": \"user\", \"content\": \"What's the weather like in Paris today?\"}\n",
                "]\n"
            ]
        },
        {
            "cell_type": "code",
            "execution_count": 3,
            "metadata": {},
            "outputs": [
                {
                    "name": "stdout",
                    "output_type": "stream",
                    "text": [
                        "[ChatCompletionMessageToolCall(id='call_tffgxgwsuClvIuBR6O7Uesse', function=Function(arguments='{\"location\": \"Paris\", \"date\": \"2025-01-08\"}', name='get_weather'), type='function')]\n"
                    ]
                }
            ],
            "source": [
                "from openai import OpenAI\n",
                "import os\n",
                "\n",
                "# Get your `FRIENDLI_TOKEN` from the environment\n",
                "token = os.getenv(\"FRIENDLI_TOKEN\") or \"<YOUR_FRIENDLI_TOKEN>\"\n",
                "\n",
                "client = OpenAI(\n",
                "    base_url = \"https://api.friendli.ai/serverless/v1\",\n",
                "    api_key = token\n",
                ")\n",
                "\n",
                "completion = client.chat.completions.create(\n",
                "  model=\"meta-llama-3.1-8b-instruct\",\n",
                "  messages=messages,\n",
                "  tools=tools,\n",
                ")\n",
                "\n",
                "print(completion.choices[0].message.tool_calls)\n"
            ]
        },
        {
            "cell_type": "code",
            "execution_count": 4,
            "metadata": {},
            "outputs": [
                {
                    "name": "stdout",
                    "output_type": "stream",
                    "text": [
                        "{'temperature': 73, 'forecast': 'sunny'}\n"
                    ]
                }
            ],
            "source": [
                "import json\n",
                "import random\n",
                "\n",
                "def get_weather(location: str, date: str):\n",
                "    temperature = random.randint(60, 80)\n",
                "    return {\"temperature\": temperature, \"forecast\": \"sunny\"}\n",
                "\n",
                "tool_call = completion.choices[0].message.tool_calls[0] \n",
                "\n",
                "tool_response = locals()[tool_call.function.name](**json.loads(tool_call.function.arguments))\n",
                "print(tool_response)\n"
            ]
        },
        {
            "cell_type": "code",
            "execution_count": 5,
            "metadata": {},
            "outputs": [
                {
                    "name": "stdout",
                    "output_type": "stream",
                    "text": [
                        "[\n",
                        "  {\n",
                        "    \"role\": \"system\",\n",
                        "    \"content\": \"You are a helpful assistant. today is 2025-01-08 13:31:50.510071.\"\n",
                        "  },\n",
                        "  {\n",
                        "    \"role\": \"user\",\n",
                        "    \"content\": \"What's the weather like in Paris today?\"\n",
                        "  },\n",
                        "  {\n",
                        "    \"role\": \"assistant\",\n",
                        "    \"tool_calls\": [\n",
                        "      {\n",
                        "        \"id\": \"call_tffgxgwsuClvIuBR6O7Uesse\",\n",
                        "        \"function\": {\n",
                        "          \"arguments\": \"{\\\"location\\\": \\\"Paris\\\", \\\"date\\\": \\\"2025-01-08\\\"}\",\n",
                        "          \"name\": \"get_weather\"\n",
                        "        },\n",
                        "        \"type\": \"function\"\n",
                        "      }\n",
                        "    ]\n",
                        "  },\n",
                        "  {\n",
                        "    \"role\": \"tool\",\n",
                        "    \"content\": \"{\\\"temperature\\\": 73, \\\"forecast\\\": \\\"sunny\\\"}\",\n",
                        "    \"tool_call_id\": \"call_tffgxgwsuClvIuBR6O7Uesse\"\n",
                        "  }\n",
                        "]\n"
                    ]
                }
            ],
            "source": [
                "model_response = completion.choices[0].message\n",
                "\n",
                "# Append the response from the model\n",
                "messages.append(\n",
                "    {\n",
                "        \"role\": model_response.role,\n",
                "        \"tool_calls\": [\n",
                "            tool_call.model_dump()\n",
                "            for tool_call in model_response.tool_calls\n",
                "        ]\n",
                "    }\n",
                ")\n",
                "\n",
                "# Append the response from the tool\n",
                "messages.append(\n",
                "    {\n",
                "        \"role\": \"tool\",\n",
                "        \"content\": json.dumps(tool_response),\n",
                "        \"tool_call_id\": tool_call.id\n",
                "    }\n",
                ")\n",
                "\n",
                "print(json.dumps(messages, indent=2))"
            ]
        },
        {
            "cell_type": "code",
            "execution_count": 6,
            "metadata": {},
            "outputs": [
                {
                    "name": "stdout",
                    "output_type": "stream",
                    "text": [
                        "The weather in Paris today is sunny with a temperature of 73 degrees. You can expect a pleasant day to enjoy the city.\n"
                    ]
                }
            ],
            "source": [
                "next_completion = client.chat.completions.create(\n",
                "    model=\"meta-llama-3.1-8b-instruct\",\n",
                "    messages=messages,\n",
                "    tools=tools\n",
                ")\n",
                "\n",
                "print(next_completion.choices[0].message.content)\n"
            ]
        },
        {
            "cell_type": "code",
            "execution_count": null,
            "metadata": {},
            "outputs": [],
            "source": []
        }
    ],
    "metadata": {
        "kernelspec": {
            "display_name": ".venv",
            "language": "python",
            "name": "python3"
        },
        "language_info": {
            "codemirror_mode": {
                "name": "ipython",
                "version": 3
            },
            "file_extension": ".py",
            "mimetype": "text/x-python",
            "name": "python",
            "nbconvert_exporter": "python",
            "pygments_lexer": "ipython3",
            "version": "3.12.2"
        }
    },
    "nbformat": 4,
    "nbformat_minor": 2
}
